{
 "cells": [
  {
   "cell_type": "code",
   "execution_count": null,
   "metadata": {},
   "outputs": [],
   "source": [
    "!git clone https://github.com/bensapirstein/DeepGraphemics.git\n",
    "%cd DeepGraphemics/"
   ]
  },
  {
   "cell_type": "code",
   "execution_count": 1,
   "metadata": {},
   "outputs": [],
   "source": [
    "%matplotlib inline\n",
    "%load_ext autoreload\n",
    "%autoreload 2\n",
    "import os"
   ]
  },
  {
   "cell_type": "code",
   "execution_count": 5,
   "metadata": {},
   "outputs": [
    {
     "name": "stdout",
     "output_type": "stream",
     "text": [
      "--- EPOCH 1/10 ---\n",
      "train_batch (Avg. Loss 17563.403, Accuracy 0.0): 100%|██████████| 10/10 [00:01<00:00,  8.44it/s]\n",
      "test_batch (Avg. Loss 2626.305, Accuracy 0.0): 100%|██████████| 10/10 [00:00<00:00, 65.86it/s]\n",
      "--- EPOCH 2/10 ---\n",
      "train_batch (Avg. Loss 10388.135, Accuracy 0.0): 100%|██████████| 10/10 [00:00<00:00, 10.09it/s]\n",
      "test_batch (Avg. Loss 2334.797, Accuracy 0.0): 100%|██████████| 10/10 [00:00<00:00, 80.96it/s]\n",
      "--- EPOCH 3/10 ---\n",
      "train_batch (Avg. Loss 9631.454, Accuracy 0.0): 100%|██████████| 10/10 [00:01<00:00,  9.57it/s]\n",
      "test_batch (Avg. Loss 2255.614, Accuracy 0.0): 100%|██████████| 10/10 [00:00<00:00, 95.22it/s]\n",
      "--- EPOCH 4/10 ---\n",
      "train_batch (Avg. Loss 9352.150, Accuracy 0.0): 100%|██████████| 10/10 [00:00<00:00, 10.48it/s]\n",
      "test_batch (Avg. Loss 2188.946, Accuracy 0.0): 100%|██████████| 10/10 [00:00<00:00, 95.08it/s]\n",
      "--- EPOCH 5/10 ---\n",
      "train_batch (Avg. Loss 9013.250, Accuracy 0.0): 100%|██████████| 10/10 [00:00<00:00, 10.45it/s]\n",
      "test_batch (Avg. Loss 2078.859, Accuracy 0.0): 100%|██████████| 10/10 [00:00<00:00, 55.56it/s]\n",
      "--- EPOCH 6/10 ---\n",
      "train_batch (Avg. Loss 8654.606, Accuracy 0.0): 100%|██████████| 10/10 [00:00<00:00, 10.53it/s]\n",
      "test_batch (Avg. Loss 1970.404, Accuracy 0.0): 100%|██████████| 10/10 [00:00<00:00, 94.41it/s]\n",
      "--- EPOCH 7/10 ---\n",
      "train_batch (Avg. Loss 8112.642, Accuracy 0.0): 100%|██████████| 10/10 [00:00<00:00, 10.60it/s]\n",
      "test_batch (Avg. Loss 1944.295, Accuracy 0.0): 100%|██████████| 10/10 [00:00<00:00, 91.88it/s]\n",
      "--- EPOCH 8/10 ---\n",
      "train_batch (Avg. Loss 8218.559, Accuracy 0.0): 100%|██████████| 10/10 [00:00<00:00, 10.06it/s]\n",
      "test_batch (Avg. Loss 1923.306, Accuracy 0.0): 100%|██████████| 10/10 [00:00<00:00, 93.37it/s]\n",
      "--- EPOCH 9/10 ---\n",
      "train_batch (Avg. Loss 8268.457, Accuracy 0.0): 100%|██████████| 10/10 [00:00<00:00, 10.73it/s]\n",
      "test_batch (Avg. Loss 1893.318, Accuracy 0.0): 100%|██████████| 10/10 [00:00<00:00, 86.16it/s]\n",
      "--- EPOCH 10/10 ---\n",
      "train_batch (Avg. Loss 7935.969, Accuracy 0.0): 100%|██████████| 10/10 [00:00<00:00, 10.11it/s]\n",
      "test_batch (Avg. Loss 1882.973, Accuracy 0.0): 100%|██████████| 10/10 [00:00<00:00, 92.68it/s]\n",
      "*** Output file ./results/test_run.json written\n"
     ]
    },
    {
     "ename": "FileNotFoundError",
     "evalue": "[Errno 2] No such file or directory: 'results/test_run_L1_K32-64.json'",
     "output_type": "error",
     "traceback": [
      "\u001b[0;31m---------------------------------------------------------------------------\u001b[0m",
      "\u001b[0;31mFileNotFoundError\u001b[0m                         Traceback (most recent call last)",
      "Cell \u001b[0;32mIn[5], line 15\u001b[0m\n\u001b[1;32m      8\u001b[0m experiments\u001b[39m.\u001b[39mrun_experiment(\n\u001b[1;32m      9\u001b[0m     \u001b[39m'\u001b[39m\u001b[39mtest_run\u001b[39m\u001b[39m'\u001b[39m, data_dir\u001b[39m=\u001b[39m\u001b[39m\"\u001b[39m\u001b[39mdatasets/dataset_rotation_std_5/\u001b[39m\u001b[39m\"\u001b[39m, seed\u001b[39m=\u001b[39mseed, bs_train\u001b[39m=\u001b[39m\u001b[39m50\u001b[39m, batches\u001b[39m=\u001b[39m\u001b[39m10\u001b[39m, epochs\u001b[39m=\u001b[39m\u001b[39m10\u001b[39m, early_stopping\u001b[39m=\u001b[39m\u001b[39m5\u001b[39m,\n\u001b[1;32m     10\u001b[0m     model_type\u001b[39m=\u001b[39m\u001b[39m'\u001b[39m\u001b[39mvae\u001b[39m\u001b[39m'\u001b[39m\n\u001b[1;32m     11\u001b[0m )\n\u001b[1;32m     13\u001b[0m \u001b[39m# There should now be a file 'test_run.json' in your `results/` folder.\u001b[39;00m\n\u001b[1;32m     14\u001b[0m \u001b[39m# We can use it to load the results of the experiment.\u001b[39;00m\n\u001b[0;32m---> 15\u001b[0m cfg, fit_res \u001b[39m=\u001b[39m load_experiment(\u001b[39m'\u001b[39;49m\u001b[39mresults/test_run_L1_K32-64.json\u001b[39;49m\u001b[39m'\u001b[39;49m)\n\u001b[1;32m     16\u001b[0m _, _ \u001b[39m=\u001b[39m plot_fit(fit_res)\n\u001b[1;32m     18\u001b[0m \u001b[39m# And `cfg` contains the exact parameters to reproduce it\u001b[39;00m\n",
      "File \u001b[0;32m~/MLDS/Deep Learning/Final Project/Deep Graphemics/src/experiments.py:111\u001b[0m, in \u001b[0;36mload_experiment\u001b[0;34m(filename)\u001b[0m\n\u001b[1;32m    110\u001b[0m \u001b[39mdef\u001b[39;00m \u001b[39mload_experiment\u001b[39m(filename):\n\u001b[0;32m--> 111\u001b[0m     \u001b[39mwith\u001b[39;00m \u001b[39mopen\u001b[39;49m(filename, \u001b[39m\"\u001b[39;49m\u001b[39mr\u001b[39;49m\u001b[39m\"\u001b[39;49m) \u001b[39mas\u001b[39;00m f:\n\u001b[1;32m    112\u001b[0m         output \u001b[39m=\u001b[39m json\u001b[39m.\u001b[39mload(f)\n\u001b[1;32m    114\u001b[0m     config \u001b[39m=\u001b[39m output[\u001b[39m\"\u001b[39m\u001b[39mconfig\u001b[39m\u001b[39m\"\u001b[39m]\n",
      "\u001b[0;31mFileNotFoundError\u001b[0m: [Errno 2] No such file or directory: 'results/test_run_L1_K32-64.json'"
     ]
    }
   ],
   "source": [
    "import src.experiments as experiments\n",
    "from src.experiments import load_experiment\n",
    "from src.plot import plot_fit\n",
    "\n",
    "seed = 42\n",
    "\n",
    "# Test experiment1 implementation on a few data samples and with a small model\n",
    "experiments.run_experiment(\n",
    "    'test_run', data_dir=\"datasets/dataset_rotation_std_5/\", seed=seed, bs_train=50, batches=10, epochs=10, early_stopping=5,\n",
    "    model_type='vae'\n",
    ")\n",
    "\n",
    "# There should now be a file 'test_run.json' in your `results/` folder.\n",
    "# We can use it to load the results of the experiment.\n",
    "cfg, fit_res = load_experiment('results/test_run.json')\n",
    "_, _ = plot_fit(fit_res)\n",
    "\n",
    "# And `cfg` contains the exact parameters to reproduce it\n",
    "print('experiment config: ', cfg)"
   ]
  },
  {
   "cell_type": "code",
   "execution_count": null,
   "metadata": {},
   "outputs": [],
   "source": [
    "def plot_exp_results(filename_pattern, results_dir='results'):\n",
    "    fig = None\n",
    "    result_files = glob.glob(os.path.join(results_dir, filename_pattern))\n",
    "    result_files.sort()\n",
    "    if len(result_files) == 0:\n",
    "        print(f'No results found for pattern {filename_pattern}.', file=sys.stderr)\n",
    "        return\n",
    "    for filepath in result_files:\n",
    "        m = re.match('exp\\d_(\\d_)?(.*)\\.json', os.path.basename(filepath))\n",
    "        cfg, fit_res = load_experiment(filepath)\n",
    "        fig, axes = plot_fit(fit_res, fig, legend=m[2],log_loss=True)\n",
    "    del cfg['filters_per_layer']\n",
    "    del cfg['layers_per_block']\n",
    "    print('common config: ', cfg)"
   ]
  }
 ],
 "metadata": {
  "kernelspec": {
   "display_name": "Python 3",
   "language": "python",
   "name": "python3"
  },
  "language_info": {
   "codemirror_mode": {
    "name": "ipython",
    "version": 3
   },
   "file_extension": ".py",
   "mimetype": "text/x-python",
   "name": "python",
   "nbconvert_exporter": "python",
   "pygments_lexer": "ipython3",
   "version": "3.11.3"
  },
  "orig_nbformat": 4
 },
 "nbformat": 4,
 "nbformat_minor": 2
}
