{
 "cells": [
  {
   "cell_type": "code",
   "execution_count": 1,
   "metadata": {},
   "outputs": [],
   "source": [
    "%matplotlib inline\n",
    "%load_ext autoreload\n",
    "%autoreload 2\n",
    "\n",
    "import os"
   ]
  },
  {
   "cell_type": "code",
   "execution_count": 10,
   "metadata": {},
   "outputs": [],
   "source": [
    "import torch\n",
    "from models.capsnet import CapsNet\n",
    "from utils.datasets import GraphemesDataset\n",
    "from torch.utils.data import DataLoader\n",
    "from scripts.test_capsnet import train, test\n",
    "from configs.capsnet_config import CapsNetConfig\n",
    "import torchvision.transforms as transforms\n",
    "\n",
    "torch.manual_seed(1)\n",
    "\n",
    "USE_CUDA = True if torch.cuda.is_available() else False\n",
    "BATCH_SIZE = 100\n",
    "N_EPOCHS = 30\n",
    "\n",
    "img_transform = transforms.Compose([\n",
    "    transforms.ToTensor()\n",
    "])\n",
    "\n",
    "letter = 'aleph'\n",
    "\n",
    "root_dir = \"dataset_skia\"\n",
    "train_dataset = GraphemesDataset(root_dir, train=True, by_letter=letter, transform=img_transform)\n",
    "train_dataloader = DataLoader(train_dataset, batch_size=BATCH_SIZE, shuffle=True)\n",
    "\n",
    "test_dataset = GraphemesDataset(root_dir, train=False, by_letter=letter, transform=img_transform)\n",
    "test_dataloader = DataLoader(test_dataset, batch_size=BATCH_SIZE, shuffle=True)\n",
    "\n",
    "n_classes = len(train_dataset.classes)"
   ]
  },
  {
   "cell_type": "code",
   "execution_count": 12,
   "metadata": {},
   "outputs": [
    {
     "name": "stderr",
     "output_type": "stream",
     "text": [
      "  0%|          | 0/53 [00:01<?, ?it/s]\n"
     ]
    },
    {
     "ename": "RuntimeError",
     "evalue": "The size of tensor a (13) must match the size of tensor b (10) at non-singleton dimension 1",
     "output_type": "error",
     "traceback": [
      "\u001b[0;31m---------------------------------------------------------------------------\u001b[0m",
      "\u001b[0;31mRuntimeError\u001b[0m                              Traceback (most recent call last)",
      "Cell \u001b[0;32mIn[12], line 13\u001b[0m\n\u001b[1;32m     10\u001b[0m n_classes \u001b[39m=\u001b[39m \u001b[39mlen\u001b[39m(train_dataset\u001b[39m.\u001b[39mclasses)\n\u001b[1;32m     12\u001b[0m \u001b[39mfor\u001b[39;00m e \u001b[39min\u001b[39;00m \u001b[39mrange\u001b[39m(\u001b[39m1\u001b[39m, N_EPOCHS \u001b[39m+\u001b[39m \u001b[39m1\u001b[39m):\n\u001b[0;32m---> 13\u001b[0m     train(capsule_net, optimizer, train_loader, e, n_classes\u001b[39m=\u001b[39;49mn_classes)\n\u001b[1;32m     14\u001b[0m     test(capsule_net, test_loader, e, n_classes\u001b[39m=\u001b[39mn_classes)\n",
      "File \u001b[0;32m~/MLDS/Deep Learning/Final Project/Deep Graphemics/scripts/test_capsnet.py:81\u001b[0m, in \u001b[0;36mtrain\u001b[0;34m(model, optimizer, train_loader, epoch, n_classes)\u001b[0m\n\u001b[1;32m     79\u001b[0m optimizer\u001b[39m.\u001b[39mzero_grad()\n\u001b[1;32m     80\u001b[0m output, reconstructions, masked \u001b[39m=\u001b[39m capsule_net(data)\n\u001b[0;32m---> 81\u001b[0m loss \u001b[39m=\u001b[39m capsule_net\u001b[39m.\u001b[39;49mloss(data, output, target, reconstructions)\n\u001b[1;32m     82\u001b[0m loss\u001b[39m.\u001b[39mbackward()\n\u001b[1;32m     83\u001b[0m optimizer\u001b[39m.\u001b[39mstep()\n",
      "File \u001b[0;32m~/MLDS/Deep Learning/Final Project/Deep Graphemics/models/capsnet.py:139\u001b[0m, in \u001b[0;36mCapsNet.loss\u001b[0;34m(self, data, x, target, reconstructions)\u001b[0m\n\u001b[1;32m    138\u001b[0m \u001b[39mdef\u001b[39;00m \u001b[39mloss\u001b[39m(\u001b[39mself\u001b[39m, data, x, target, reconstructions):\n\u001b[0;32m--> 139\u001b[0m     \u001b[39mreturn\u001b[39;00m \u001b[39mself\u001b[39;49m\u001b[39m.\u001b[39;49mmargin_loss(x, target) \u001b[39m+\u001b[39m \u001b[39mself\u001b[39m\u001b[39m.\u001b[39mreconstruction_loss(data, reconstructions)\n",
      "File \u001b[0;32m~/MLDS/Deep Learning/Final Project/Deep Graphemics/models/capsnet.py:149\u001b[0m, in \u001b[0;36mCapsNet.margin_loss\u001b[0;34m(self, x, labels, size_average)\u001b[0m\n\u001b[1;32m    146\u001b[0m left \u001b[39m=\u001b[39m F\u001b[39m.\u001b[39mrelu(\u001b[39m0.9\u001b[39m \u001b[39m-\u001b[39m v_c)\u001b[39m.\u001b[39mview(batch_size, \u001b[39m-\u001b[39m\u001b[39m1\u001b[39m)\n\u001b[1;32m    147\u001b[0m right \u001b[39m=\u001b[39m F\u001b[39m.\u001b[39mrelu(v_c \u001b[39m-\u001b[39m \u001b[39m0.1\u001b[39m)\u001b[39m.\u001b[39mview(batch_size, \u001b[39m-\u001b[39m\u001b[39m1\u001b[39m)\n\u001b[0;32m--> 149\u001b[0m loss \u001b[39m=\u001b[39m labels \u001b[39m*\u001b[39;49m left \u001b[39m+\u001b[39m \u001b[39m0.5\u001b[39m \u001b[39m*\u001b[39m (\u001b[39m1.0\u001b[39m \u001b[39m-\u001b[39m labels) \u001b[39m*\u001b[39m right\n\u001b[1;32m    150\u001b[0m loss \u001b[39m=\u001b[39m loss\u001b[39m.\u001b[39msum(dim\u001b[39m=\u001b[39m\u001b[39m1\u001b[39m)\u001b[39m.\u001b[39mmean()\n\u001b[1;32m    152\u001b[0m \u001b[39mreturn\u001b[39;00m loss\n",
      "\u001b[0;31mRuntimeError\u001b[0m: The size of tensor a (13) must match the size of tensor b (10) at non-singleton dimension 1"
     ]
    }
   ],
   "source": [
    "config = Config(dataset='mnist')\n",
    "config.dc_num_capsules = n_classes\n",
    "\n",
    "capsule_net = CapsNet(config)\n",
    "capsule_net = torch.nn.DataParallel(capsule_net)\n",
    "if USE_CUDA:\n",
    "    capsule_net = capsule_net.cuda()\n",
    "capsule_net = capsule_net.module\n",
    "\n",
    "optimizer = torch.optim.Adam(capsule_net.parameters())\n",
    "\n",
    "for e in range(1, N_EPOCHS + 1):\n",
    "    train(capsule_net, optimizer, train_loader, e, n_classes=n_classes)\n",
    "    test(capsule_net, test_loader, e, n_classes=n_classes)"
   ]
  }
 ],
 "metadata": {
  "kernelspec": {
   "display_name": "venv",
   "language": "python",
   "name": "python3"
  },
  "language_info": {
   "codemirror_mode": {
    "name": "ipython",
    "version": 3
   },
   "file_extension": ".py",
   "mimetype": "text/x-python",
   "name": "python",
   "nbconvert_exporter": "python",
   "pygments_lexer": "ipython3",
   "version": "3.11.3"
  },
  "orig_nbformat": 4
 },
 "nbformat": 4,
 "nbformat_minor": 2
}
